{
 "cells": [
  {
   "cell_type": "code",
   "execution_count": 5,
   "id": "75a346c2-aedc-4faa-ab7f-1b3b229abb06",
   "metadata": {},
   "outputs": [],
   "source": [
    "import numpy as np\n",
    "import tensorflow as tf\n",
    "import matplotlib.pyplot as plt\n",
    "\n",
    "from tensorflow.keras import datasets, layers, models\n",
    "import matplotlib.pyplot as plt\n",
    "\n",
    "from tensorflow.keras.models import Sequential \n",
    "from tensorflow.keras.layers import Dense, Activation, Dropout, Softmax\n",
    "from tensorflow.keras.utils import to_categorical\n",
    "from tensorflow.keras import Input\n"
   ]
  },
  {
   "cell_type": "code",
   "execution_count": 9,
   "id": "9bbcf006-01fd-4e85-99ad-e5a15a9ad798",
   "metadata": {},
   "outputs": [],
   "source": [
    "model = models.Sequential()\n",
    "model.add(layers.Conv2D(50, (25, 5), activation='tanh',kernel_initializer='HeNormal' , input_shape=(88, 7 , 3)))\n",
    "model.add(layers.MaxPooling2D((3, 1)))\n",
    "model.add(Dropout(0.3))\n",
    "model.add(layers.Conv2D(50, (5, 3), activation='relu'))\n",
    "model.add(layers.MaxPooling2D((3, 1)))\n",
    "model.add(Dropout(0.3))\n",
    "\n",
    "model.add(layers.Flatten())\n",
    "model.add(layers.Dense(1000, activation='sigmoid'))\n",
    "model.add(Dropout(0.3))\n",
    "model.add(layers.Dense(200, activation=\"sigmoid\"))\n",
    "model.add(Dropout(0.3))\n",
    "model.add(Dense(88))\n",
    "model.add(Activation('sigmoid'))\n",
    "\n",
    "model.compile(optimizer=tf.keras.optimizers.legacy.SGD(momentum=0.9, learning_rate=0.01),\n",
    "              loss=tf.keras.losses.BinaryCrossentropy,\n",
    "              metrics=[tf.keras.metrics.F1Score()])"
   ]
  },
  {
   "cell_type": "code",
   "execution_count": null,
   "id": "2a3b8829-8f31-4866-8fe5-ca7cca835f14",
   "metadata": {},
   "outputs": [],
   "source": []
  }
 ],
 "metadata": {
  "kernelspec": {
   "display_name": "tensorflow_env",
   "language": "python",
   "name": "tensorflow_env"
  },
  "language_info": {
   "codemirror_mode": {
    "name": "ipython",
    "version": 3
   },
   "file_extension": ".py",
   "mimetype": "text/x-python",
   "name": "python",
   "nbconvert_exporter": "python",
   "pygments_lexer": "ipython3",
   "version": "3.11.9"
  }
 },
 "nbformat": 4,
 "nbformat_minor": 5
}
