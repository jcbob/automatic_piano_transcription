{
 "cells": [
  {
   "cell_type": "code",
   "execution_count": null,
   "id": "03ce3958-347e-4e4c-a7a7-09ba25f3ba49",
   "metadata": {},
   "outputs": [],
   "source": [
    "import numpy as np\n",
    "import tensorflow as tf\n",
    "import matplotlib.pyplot as plt\n",
    "import pretty_midi\n",
    "\n",
    "from data_preprocessing import get_train_data\n",
    "from data_preprocessing import group_cqt_frames\n",
    "\n",
    "from tensorflow.keras.models import load_model\n",
    "from tensorflow.keras.optimizers import SGD\n",
    "from tensorflow.keras.losses import BinaryCrossentropy"
   ]
  },
  {
   "cell_type": "code",
   "execution_count": null,
   "id": "f445ac66-789a-4ba5-9477-069881f00ab9",
   "metadata": {},
   "outputs": [],
   "source": [
    "audio = \"../databases/combined_database/MAPS_ENSTDkCl/MAPS_ENSTDkCl_2/ENSTDkCl/MUS/MAPS_MUS-scn15_12_ENSTDkCl.wav\"\n",
    "midi = \"../databases/combined_database/MAPS_ENSTDkCl/MAPS_ENSTDkCl_2/ENSTDkCl/MUS/MAPS_MUS-scn15_12_ENSTDkCl.mid\"\n",
    "\n",
    "\n",
    "sampling_rate = 16000\n",
    "hop_length = 512\n",
    "n_bins = 88\n",
    "show_cqt_pr = False\n",
    "pr_in_frames = True\n",
    "cqt_in_frames = True\n",
    "num_frames_before = 3\n",
    "num_frames_after = 3\n",
    "\n",
    "\n",
    "cqt, labels = get_train_data(audio, sampling_rate, hop_length, n_bins, midi, show_cqt_pr, pr_in_frames, cqt_in_frames)"
   ]
  },
  {
   "cell_type": "code",
   "execution_count": null,
   "id": "90a4436f-bc10-4a81-a247-ffb7bcfc5288",
   "metadata": {},
   "outputs": [],
   "source": [
    "model = load_model(\"../saved-models/onenote-saved-models/saved_model_11.h5\")\n",
    "\n",
    "model.compile(optimizer=tf.keras.optimizers.SGD(momentum=0.9, learning_rate=0.01),\n",
    "              loss=tf.keras.losses.BinaryCrossentropy(),\n",
    "              metrics=[tf.keras.metrics.F1Score()])\n",
    "\n",
    "# model.summary()"
   ]
  },
  {
   "cell_type": "code",
   "execution_count": null,
   "id": "12ea4abe-18c8-400d-94eb-25d15ab667ec",
   "metadata": {},
   "outputs": [],
   "source": [
    "labels_transposed = np.transpose(labels)\n",
    "grouped_cqt = group_cqt_frames(cqt, 3, 3)\n",
    "grouped_cqt_abs = np.abs(grouped_cqt)\n",
    "\n",
    "predicted_cqt = model.predict(grouped_cqt_abs, batch_size=None,  verbose=\"auto\", steps=None, callbacks=None)\n",
    "\n",
    "# Define threshold\n",
    "threshold = 0.4\n",
    "\n",
    "# Apply threshold to create a binary matrix\n",
    "binary_matrix = np.where(predicted_cqt > threshold, 1, 0)"
   ]
  },
  {
   "cell_type": "code",
   "execution_count": null,
   "id": "d6c0a717-0a72-4149-832a-5ec04f17449a",
   "metadata": {},
   "outputs": [],
   "source": [
    "print(labels.shape)\n",
    "print(cqt.shape)\n",
    "print(\"--------------------------\")\n",
    "print(labels_transposed.shape)\n",
    "print(grouped_cqt_abs.shape)\n",
    "print(predicted_cqt.shape)"
   ]
  },
  {
   "cell_type": "code",
   "execution_count": null,
   "id": "517e2d67-4de0-478e-9879-125cdf9bc4d1",
   "metadata": {},
   "outputs": [],
   "source": [
    "# Plot original predicted matrix\n",
    "plt.figure(figsize=(15, 5))\n",
    "plt.imshow(predicted_cqt.T, cmap='binary', aspect='auto', origin='lower')\n",
    "plt.xlabel('Frames')\n",
    "plt.ylabel('MIDI Note Index (A0 - C8)')\n",
    "plt.title('Piano Roll Representation')\n",
    "plt.colorbar(label='Note Presence (1=On, 0=Off)')\n",
    "plt.show()\n",
    "\n",
    "# Plot binary matrix\n",
    "plt.figure(figsize=(15, 5))\n",
    "plt.imshow(binary_matrix.T, cmap='binary', aspect='auto', origin='lower')\n",
    "plt.xlabel('Frames')\n",
    "plt.ylabel('MIDI Note Index (A0 - C8)')\n",
    "plt.title('Binary Piano Roll Representation')\n",
    "plt.colorbar(label='Note Presence (1=On, 0=Off)')\n",
    "plt.show()"
   ]
  },
  {
   "cell_type": "code",
   "execution_count": null,
   "id": "89021e7b-0e1d-4849-aafb-23c9fb5bf44f",
   "metadata": {},
   "outputs": [],
   "source": [
    "# Convert binary matrix to MIDI file (technically doesn't really work)\n",
    "def piano_roll_to_pretty_midi(piano_roll, fs=100, program=0):\n",
    "    \"\"\"Convert a Piano Roll array into a PrettyMIDI object with a single instrument.\"\"\"\n",
    "    notes, frames = piano_roll.shape\n",
    "    pm = pretty_midi.PrettyMIDI()\n",
    "    instrument = pretty_midi.Instrument(program=program)\n",
    "\n",
    "    # pad 1 column of zeros so we can acknowledge inital and ending events\n",
    "    piano_roll = np.pad(piano_roll, ((0, 0), (1, 1)), 'constant')\n",
    "\n",
    "    # use changes in velocities to find note on/note off events\n",
    "    changes = np.diff(piano_roll, axis=1)\n",
    "    for note in range(notes):\n",
    "        for onset, offset in zip(*np.nonzero(changes[note, :] == 1)):\n",
    "            onset_time = onset / fs\n",
    "            offset_time = offset / fs\n",
    "            note = pretty_midi.Note(velocity=100, pitch=note + 21, start=onset_time, end=offset_time)\n",
    "            instrument.notes.append(note)\n",
    "\n",
    "    pm.instruments.append(instrument)\n",
    "    return pm"
   ]
  },
  {
   "cell_type": "code",
   "execution_count": null,
   "id": "298ed064-d41d-4840-9960-f79d495a713f",
   "metadata": {},
   "outputs": [],
   "source": [
    "# Sampling rate for MIDI\n",
    "fs = sampling_rate / hop_length\n",
    "\n",
    "# Convert binary matrix to MIDI\n",
    "midi_data = piano_roll_to_pretty_midi(binary_matrix, fs=fs)\n",
    "midi_data.write(\"predicted_output.mid\")"
   ]
  },
  {
   "cell_type": "code",
   "execution_count": null,
   "id": "77c40502-0d1a-4480-904b-c1c2f3fb9bea",
   "metadata": {},
   "outputs": [],
   "source": []
  }
 ],
 "metadata": {
  "kernelspec": {
   "display_name": "Python 3 (ipykernel)",
   "language": "python",
   "name": "python3"
  },
  "language_info": {
   "codemirror_mode": {
    "name": "ipython",
    "version": 3
   },
   "file_extension": ".py",
   "mimetype": "text/x-python",
   "name": "python",
   "nbconvert_exporter": "python",
   "pygments_lexer": "ipython3",
   "version": "3.11.8"
  }
 },
 "nbformat": 4,
 "nbformat_minor": 5
}
