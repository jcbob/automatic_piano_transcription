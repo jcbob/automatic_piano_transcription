{
 "cells": [
  {
   "cell_type": "code",
   "execution_count": 1,
   "id": "45f5629b-3d85-4de2-9243-765dd932532a",
   "metadata": {},
   "outputs": [],
   "source": [
    "import pickle\n",
    "from preprocessing_and_pickling import preprocess_and_pickle_data"
   ]
  },
  {
   "cell_type": "code",
   "execution_count": 3,
   "id": "7217e6a9-4876-44c5-98d3-e886f3a78bd8",
   "metadata": {
    "scrolled": true
   },
   "outputs": [
    {
     "name": "stdout",
     "output_type": "stream",
     "text": [
      "files processed - 1\n",
      "files processed - 2\n",
      "files processed - 3\n",
      "files processed - 4\n",
      "files processed - 5\n",
      "files processed - 6\n",
      "files processed - 7\n",
      "files processed - 8\n",
      "files processed - 9\n",
      "files processed - 10\n",
      "files processed - 11\n",
      "files processed - 12\n",
      "files processed - 13\n",
      "files processed - 14\n",
      "files processed - 15\n",
      "files processed - 16\n",
      "files processed - 17\n",
      "files processed - 18\n",
      "files processed - 19\n",
      "files processed - 20\n",
      "files processed - 21\n",
      "files processed - 22\n",
      "files processed - 23\n",
      "files processed - 24\n",
      "files processed - 25\n",
      "files processed - 26\n",
      "files processed - 27\n",
      "files processed - 28\n",
      "files processed - 29\n",
      "files processed - 30\n",
      "files processed - 31\n",
      "files processed - 32\n",
      "files processed - 33\n",
      "files processed - 34\n",
      "files processed - 35\n",
      "files processed - 36\n",
      "files processed - 37\n",
      "files processed - 38\n",
      "files processed - 39\n",
      "files processed - 40\n",
      "files processed - 41\n",
      "files processed - 42\n",
      "files processed - 43\n",
      "files processed - 44\n",
      "files processed - 45\n",
      "files processed - 46\n",
      "files processed - 47\n",
      "files processed - 48\n",
      "files processed - 49\n",
      "files processed - 50\n",
      "files processed - 51\n",
      "files processed - 52\n",
      "files processed - 53\n",
      "files processed - 54\n",
      "files processed - 55\n",
      "files processed - 56\n",
      "files processed - 57\n",
      "files processed - 58\n",
      "files processed - 59\n",
      "files processed - 60\n"
     ]
    }
   ],
   "source": [
    "root_folder = \"../databases/music-only-database\"\n",
    "output_pickle_file = 'music-only-database.pickle'\n",
    "sampling_rate = 16000\n",
    "hop_length = 512\n",
    "n_bins = 88\n",
    "show_cqt_pr = False\n",
    "pr_in_frames = False\n",
    "cqt_in_frames = False\n",
    "num_frames_before = 3\n",
    "num_frames_after = 3\n",
    "\n",
    "\n",
    "preprocess_and_pickle_data(\n",
    "    root_folder=root_folder,\n",
    "    output_pickle_file=output_pickle_file,\n",
    "    sampling_rate=sampling_rate,\n",
    "    hop_length=hop_length,\n",
    "    n_bins=n_bins,\n",
    "    show_cqt_pr=show_cqt_pr,\n",
    "    pr_in_frames=pr_in_frames,\n",
    "    cqt_in_frames=cqt_in_frames,\n",
    "    num_frames_before=num_frames_before,\n",
    "    num_frames_after=num_frames_after\n",
    ")"
   ]
  },
  {
   "cell_type": "code",
   "execution_count": null,
   "id": "49c5ace7-f9d3-403f-b1ed-1a4056e6becb",
   "metadata": {},
   "outputs": [],
   "source": []
  }
 ],
 "metadata": {
  "kernelspec": {
   "display_name": "Python 3 (ipykernel)",
   "language": "python",
   "name": "python3"
  },
  "language_info": {
   "codemirror_mode": {
    "name": "ipython",
    "version": 3
   },
   "file_extension": ".py",
   "mimetype": "text/x-python",
   "name": "python",
   "nbconvert_exporter": "python",
   "pygments_lexer": "ipython3",
   "version": "3.11.8"
  }
 },
 "nbformat": 4,
 "nbformat_minor": 5
}
