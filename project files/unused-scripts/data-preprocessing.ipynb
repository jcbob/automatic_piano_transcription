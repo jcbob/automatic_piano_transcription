{
 "cells": [
  {
   "cell_type": "code",
   "execution_count": 1,
   "id": "93a81a14-bb89-46ed-8e7f-db7e800b41d7",
   "metadata": {},
   "outputs": [],
   "source": [
    "import librosa\n",
    "import numpy as np\n",
    "import matplotlib.pyplot as plt\n",
    "import pretty_midi\n",
    "\n",
    "from data_preprocessing import generate_train_data\n",
    "from data_preprocessing import group_cqt_frames"
   ]
  },
  {
   "cell_type": "code",
   "execution_count": 11,
   "id": "d9361d4a-7513-4ef9-bfaf-5c57234e350a",
   "metadata": {},
   "outputs": [
    {
     "name": "stdout",
     "output_type": "stream",
     "text": [
      "generating data...\n",
      "cqt time - 55.168\n",
      "midi time - 55.17189517746514\n",
      "cqt frames - 1724\n",
      "midi frames - 1724\n",
      "done\n",
      "(1724, 88, 7)\n",
      "(88, 1724)\n",
      "(1724, 88)\n"
     ]
    }
   ],
   "source": [
    "audio = 'wav-folder/updown.wav'\n",
    "midi = 'midi-folder/updown.mid'\n",
    "\n",
    "sampling_rate = 16000\n",
    "hop_length = 512\n",
    "n_bins = 88\n",
    "num_context_frames_before = 3\n",
    "num_context_frames_after = 3\n",
    "\n",
    "cqt, labels = generate_train_data(\n",
    "    audio,\n",
    "    sampling_rate,\n",
    "    hop_length,\n",
    "    n_bins,\n",
    "    midi,\n",
    "    False)\n",
    "\n",
    "cqt = group_cqt_frames(cqt, num_context_frames_before, num_context_frames_after)\n",
    "\n",
    "print(cqt.shape)\n",
    "print(labels.shape)\n",
    "labels = np.transpose(labels)\n",
    "print(labels.shape)\n",
    "# cqt = np.abs(cqt)"
   ]
  },
  {
   "cell_type": "code",
   "execution_count": null,
   "id": "84092969-91e2-4c70-a1a4-4338d84d73ad",
   "metadata": {},
   "outputs": [],
   "source": []
  }
 ],
 "metadata": {
  "kernelspec": {
   "display_name": "tensorflow_env_kernel",
   "language": "python",
   "name": "tensorflow_env"
  },
  "language_info": {
   "codemirror_mode": {
    "name": "ipython",
    "version": 3
   },
   "file_extension": ".py",
   "mimetype": "text/x-python",
   "name": "python",
   "nbconvert_exporter": "python",
   "pygments_lexer": "ipython3",
   "version": "3.11.8"
  }
 },
 "nbformat": 4,
 "nbformat_minor": 5
}
