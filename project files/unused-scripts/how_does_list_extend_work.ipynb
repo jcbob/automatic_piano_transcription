{
 "cells": [
  {
   "cell_type": "code",
   "execution_count": 68,
   "id": "fcabf48e-e757-47bc-a19c-2ff5aa0f266e",
   "metadata": {},
   "outputs": [],
   "source": [
    "import numpy as np"
   ]
  },
  {
   "cell_type": "code",
   "execution_count": 69,
   "id": "c8d7fa23-ce1a-4f1b-96a8-a79be7dd4a5d",
   "metadata": {},
   "outputs": [],
   "source": [
    "# a = np.ndarray([[1,2,3],[[4,5,6], [2,3,4]]])\n",
    "b = np.array([[[0,0,0],[9,9,9]] ,[[0,0,0],[9,9,9]]])"
   ]
  },
  {
   "cell_type": "code",
   "execution_count": 70,
   "id": "5dfe301d-e6a1-436f-b3e8-cbc3d225dccc",
   "metadata": {},
   "outputs": [
    {
     "data": {
      "text/plain": [
       "(2, 2, 3)"
      ]
     },
     "execution_count": 70,
     "metadata": {},
     "output_type": "execute_result"
    }
   ],
   "source": [
    "b.shape"
   ]
  },
  {
   "cell_type": "code",
   "execution_count": 71,
   "id": "b2749242-cf0f-444f-99e3-a403a6cb5eee",
   "metadata": {},
   "outputs": [],
   "source": [
    "c = []"
   ]
  },
  {
   "cell_type": "code",
   "execution_count": 72,
   "id": "aa9b8c7e-1bb9-49e2-9ab2-5f467ee338a2",
   "metadata": {},
   "outputs": [],
   "source": [
    "c.extend(b)\n",
    "c.extend(b)\n",
    "\n",
    "# c.append(b)\n",
    "# c.append(b)"
   ]
  },
  {
   "cell_type": "code",
   "execution_count": 73,
   "id": "b51b325c-234c-49da-bfeb-0e083111dbb9",
   "metadata": {},
   "outputs": [
    {
     "data": {
      "text/plain": [
       "[array([[0, 0, 0],\n",
       "        [9, 9, 9]]),\n",
       " array([[0, 0, 0],\n",
       "        [9, 9, 9]]),\n",
       " array([[0, 0, 0],\n",
       "        [9, 9, 9]]),\n",
       " array([[0, 0, 0],\n",
       "        [9, 9, 9]])]"
      ]
     },
     "execution_count": 73,
     "metadata": {},
     "output_type": "execute_result"
    }
   ],
   "source": [
    "c"
   ]
  },
  {
   "cell_type": "code",
   "execution_count": 74,
   "id": "39d06113-8768-4259-93b4-37acd1b890ea",
   "metadata": {},
   "outputs": [],
   "source": [
    "d = np.array(c)"
   ]
  },
  {
   "cell_type": "code",
   "execution_count": 75,
   "id": "efea7116-09af-4d50-abb7-89daae6e1f2f",
   "metadata": {},
   "outputs": [
    {
     "data": {
      "text/plain": [
       "(4, 2, 3)"
      ]
     },
     "execution_count": 75,
     "metadata": {},
     "output_type": "execute_result"
    }
   ],
   "source": [
    "d.shape"
   ]
  },
  {
   "cell_type": "code",
   "execution_count": null,
   "id": "8ed2985d-9447-4901-9879-9baa49c7bc2f",
   "metadata": {},
   "outputs": [],
   "source": []
  }
 ],
 "metadata": {
  "kernelspec": {
   "display_name": "Python 3 (ipykernel)",
   "language": "python",
   "name": "python3"
  },
  "language_info": {
   "codemirror_mode": {
    "name": "ipython",
    "version": 3
   },
   "file_extension": ".py",
   "mimetype": "text/x-python",
   "name": "python",
   "nbconvert_exporter": "python",
   "pygments_lexer": "ipython3",
   "version": "3.11.8"
  }
 },
 "nbformat": 4,
 "nbformat_minor": 5
}
