{
 "cells": [
  {
   "cell_type": "code",
   "execution_count": 1,
   "id": "65747702-01f2-4c50-b958-0fb7ec97555c",
   "metadata": {},
   "outputs": [],
   "source": [
    "import numpy as np\n",
    "import keras\n",
    "import tensorflow as tf\n",
    "import matplotlib.pyplot as plt\n",
    "import pickle\n",
    "from sklearn.model_selection import train_test_split\n",
    "from tensorflow.keras import datasets, layers, models\n",
    "import matplotlib.pyplot as plt\n",
    "\n",
    "from tensorflow.keras.models import Sequential \n",
    "from tensorflow.keras.layers import Dense, Activation, Dropout, Softmax\n",
    "from tensorflow.keras.utils import to_categorical\n",
    "from tensorflow.keras import Input\n",
    "import numpy as np\n",
    "import tensorflow as tf\n",
    "import matplotlib.pyplot as plt\n",
    "\n",
    "import numpy as np\n",
    "import tensorflow as tf\n",
    "import matplotlib.pyplot as plt\n",
    "import pretty_midi\n",
    "\n",
    "from data_preprocessing import get_train_data\n",
    "from data_preprocessing import group_cqt_frames\n",
    "\n",
    "from tensorflow.keras.models import load_model\n",
    "from tensorflow.keras.optimizers import SGD\n",
    "from tensorflow.keras.losses import BinaryCrossentropy"
   ]
  },
  {
   "cell_type": "code",
   "execution_count": 2,
   "id": "57c51eda-954f-4867-8672-1e30b8a97436",
   "metadata": {},
   "outputs": [
    {
     "name": "stdout",
     "output_type": "stream",
     "text": [
      "(867965, 88, 7)\n",
      "(867965, 88)\n",
      "(694372, 88, 7)\n",
      "(173593, 88, 7)\n",
      "(694372, 88)\n",
      "(173593, 88)\n"
     ]
    }
   ],
   "source": [
    "# ACQUIRE DATA USING PICKLE\n",
    "with open('../databases/pickled-preprocessed-databases/combined_database.pickle', 'rb') as f:\n",
    "    cqt, labels = pickle.load(f)\n",
    "\n",
    "print(np.shape(cqt))\n",
    "print(np.shape(labels))\n",
    "\n",
    "cqt_train, cqt_test, label_train, label_test = train_test_split(cqt, labels, test_size=0.2)\n",
    "print(np.shape(cqt_train))\n",
    "print(np.shape(cqt_test))\n",
    "print(np.shape(label_train))\n",
    "print(np.shape(label_test))"
   ]
  },
  {
   "cell_type": "code",
   "execution_count": 3,
   "id": "0ad271fb-81d4-4100-a292-18fede5bab12",
   "metadata": {},
   "outputs": [
    {
     "name": "stderr",
     "output_type": "stream",
     "text": [
      "/opt/homebrew/anaconda3/envs/tensorflow_env/lib/python3.11/site-packages/keras/src/layers/convolutional/base_conv.py:99: UserWarning: Do not pass an `input_shape`/`input_dim` argument to a layer. When using Sequential models, prefer using an `Input(shape)` object as the first layer in the model instead.\n",
      "  super().__init__(\n"
     ]
    }
   ],
   "source": [
    "model = models.Sequential()\n",
    "# model.add(layers.Conv2D(50, (25, 5), activation='tanh', kernel_initializer='HeNormal', input_shape=(88, 7, 3)))\n",
    "model.add(layers.Conv2D(50, (25, 5), activation='tanh', kernel_initializer='HeNormal', input_shape=(88, 7, 1)))\n",
    "model.add(layers.MaxPooling2D((3, 1)))\n",
    "model.add(Dropout(0.3))\n",
    "model.add(layers.Conv2D(50, (5, 3), activation='relu'))\n",
    "model.add(layers.MaxPooling2D((3, 1)))\n",
    "model.add(Dropout(0.3))\n",
    "\n",
    "model.add(layers.Flatten())\n",
    "model.add(layers.Dense(1000, activation='sigmoid'))\n",
    "model.add(Dropout(0.3))\n",
    "model.add(layers.Dense(200, activation=\"sigmoid\"))\n",
    "model.add(Dropout(0.3))\n",
    "model.add(Dense(88))\n",
    "model.add(Activation('sigmoid'))\n",
    "\n",
    "model.compile(optimizer=tf.keras.optimizers.SGD(momentum=0.9, learning_rate=0.01),\n",
    "              loss=tf.keras.losses.BinaryCrossentropy(),\n",
    "              metrics=[tf.keras.metrics.F1Score()])\n",
    "# model.summary()"
   ]
  },
  {
   "cell_type": "code",
   "execution_count": 4,
   "id": "7b908afe-ad99-4894-b37a-76c62f69e442",
   "metadata": {},
   "outputs": [],
   "source": [
    "# checkpoint_filepath = '/kaggle/working/full_model_checkpoint.weights.h5'\n",
    "# model_checkpoint_callback = keras.callbacks.ModelCheckpoint(\n",
    "#     filepath=checkpoint_filepath,\n",
    "#     save_weights_only=True,\n",
    "#     monitor='val_accuracy',\n",
    "#     mode='max',\n",
    "#     save_best_only=False,\n",
    "#     save_freq=\"epoch\")"
   ]
  },
  {
   "cell_type": "code",
   "execution_count": 5,
   "id": "9675b3db-f35c-491d-9633-0cb897f937f6",
   "metadata": {},
   "outputs": [
    {
     "name": "stderr",
     "output_type": "stream",
     "text": [
      "/opt/homebrew/anaconda3/envs/tensorflow_env/lib/python3.11/site-packages/keras/src/saving/saving_lib.py:396: UserWarning: Skipping variable loading for optimizer 'SGD', because it has 2 variables whereas the saved optimizer has 12 variables. \n",
      "  trackable.load_own_variables(weights_store.get(inner_path))\n"
     ]
    }
   ],
   "source": [
    "model.load_weights(\"../saved-models/full-models-from-zero/full_model_from_zero_6.weights.h5\")"
   ]
  },
  {
   "cell_type": "code",
   "execution_count": null,
   "id": "afef113c-2c35-4d60-b7e2-dc4b43c90c1a",
   "metadata": {},
   "outputs": [],
   "source": [
    "history = model.fit(\n",
    "    x=cqt_train,\n",
    "    y=label_train,\n",
    "    batch_size=32,\n",
    "    epochs=100,\n",
    "    validation_data=(cqt_test, label_test),\n",
    "    shuffle=True)\n",
    "#     callbacks=[model_checkpoint_callback])"
   ]
  },
  {
   "cell_type": "code",
   "execution_count": null,
   "id": "8539f815-9e90-4d49-a330-9f20db3b3496",
   "metadata": {},
   "outputs": [],
   "source": []
  }
 ],
 "metadata": {
  "kernelspec": {
   "display_name": "Python 3 (ipykernel)",
   "language": "python",
   "name": "python3"
  },
  "language_info": {
   "codemirror_mode": {
    "name": "ipython",
    "version": 3
   },
   "file_extension": ".py",
   "mimetype": "text/x-python",
   "name": "python",
   "nbconvert_exporter": "python",
   "pygments_lexer": "ipython3",
   "version": "3.11.8"
  }
 },
 "nbformat": 4,
 "nbformat_minor": 5
}
