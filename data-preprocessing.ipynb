{
 "cells": [
  {
   "cell_type": "code",
   "execution_count": 22,
   "id": "93a81a14-bb89-46ed-8e7f-db7e800b41d7",
   "metadata": {},
   "outputs": [],
   "source": [
    "import librosa\n",
    "import numpy as np\n",
    "import matplotlib.pyplot as plt\n",
    "import pretty_midi\n",
    "\n",
    "from data_preprocessing import generate_train_data"
   ]
  },
  {
   "cell_type": "code",
   "execution_count": 23,
   "id": "d9361d4a-7513-4ef9-bfaf-5c57234e350a",
   "metadata": {},
   "outputs": [
    {
     "name": "stdout",
     "output_type": "stream",
     "text": [
      "generating data...\n",
      "cqt time - 55.168\n",
      "midi time - 55.17189517746514\n",
      "cqt frames - 1724\n",
      "midi frames - 1724\n",
      "done\n"
     ]
    }
   ],
   "source": [
    "audio = 'wav-folder/updown.wav'\n",
    "midi = 'midi-folder/updown.mid'\n",
    "\n",
    "sampling_rate = 16000\n",
    "hop_length = 512\n",
    "n_bins = 88\n",
    "\n",
    "cqt, labels = generate_train_data(audio, sampling_rate, hop_length, n_bins, midi, False)\n",
    "\n"
   ]
  },
  {
   "cell_type": "code",
   "execution_count": 33,
   "id": "cd11dee4-e21c-4e41-a58e-54fbd5379c60",
   "metadata": {},
   "outputs": [
    {
     "ename": "IndentationError",
     "evalue": "expected an indented block after 'if' statement on line 19 (675739667.py, line 31)",
     "output_type": "error",
     "traceback": [
      "\u001b[0;36m  Cell \u001b[0;32mIn[33], line 31\u001b[0;36m\u001b[0m\n\u001b[0;31m    grouped_cqt_frames.append(grouped_frame)\u001b[0m\n\u001b[0m    ^\u001b[0m\n\u001b[0;31mIndentationError\u001b[0m\u001b[0;31m:\u001b[0m expected an indented block after 'if' statement on line 19\n"
     ]
    }
   ],
   "source": [
    "import numpy as np\n",
    "\n",
    "def group_cqt_frames(cqt, num_frames_before=3, num_frames_after=3):\n",
    "    num_keys, num_frames = cqt.shape\n",
    "    grouped_cqt_frames = []\n",
    "\n",
    "    for i in range(num_frames):\n",
    "        start_frame = max(0, i - num_frames_before)\n",
    "        end_frame = min(num_frames, i + num_frames_after + 1)\n",
    "        print(start_frame)\n",
    "        print(end_frame)\n",
    "        grouped_frame = cqt[:, start_frame:end_frame]\n",
    "        print(grouped_frame)\n",
    "\n",
    "        if end_frame-start_frame <= num_frames_before:\n",
    "            if start_frame == 0:\n",
    "                pass\n",
    "                #wypelnic pierwsze iles tam klatek zerami...\n",
    "            if end_frame == num_frames:\n",
    "        \n",
    "        # # Pad or truncate the grouped frame to ensure it has the same length\n",
    "        # if grouped_frame.shape[1] < (num_frames_before + num_frames_after + 1):\n",
    "        #     # Pad the frame with zeros if it's shorter\n",
    "        #     pad_width = ((0, 0), (0, (num_frames_before + num_frames_after + 1) - grouped_frame.shape[1]))\n",
    "        #     grouped_frame = np.pad(grouped_frame, pad_width, mode='constant')\n",
    "        # elif grouped_frame.shape[1] > (num_frames_before + num_frames_after + 1):\n",
    "        #     # Truncate the frame if it's longer\n",
    "        #     grouped_frame = grouped_frame[:, :num_frames_before + num_frames_after + 1]\n",
    "        \n",
    "        \n",
    "        grouped_cqt_frames.append(grouped_frame)\n",
    "\n",
    "    # Stack the arrays along a new axis to form a 3D array\n",
    "    # TWORZENIE NUMPY ARRAY - MUSZA BYC ROWNE WYMIARY (DLATEGO TRZEBA WYPELNIAC)\n",
    "    # grouped_cqt_array = np.stack(grouped_cqt_frames, axis=-1)\n",
    "    # return grouped_cqt_array\n",
    "\n",
    "    return grouped_cqt_frames"
   ]
  },
  {
   "cell_type": "code",
   "execution_count": 35,
   "id": "21cf5d86-0baa-41be-890a-b23568e6c0af",
   "metadata": {},
   "outputs": [
    {
     "name": "stdout",
     "output_type": "stream",
     "text": [
      "0\n",
      "4\n",
      "[[3 0 4 0]\n",
      " [2 0 1 0]\n",
      " [3 4 3 1]]\n",
      "0\n",
      "5\n",
      "[[3 0 4 0 2]\n",
      " [2 0 1 0 2]\n",
      " [3 4 3 1 0]]\n",
      "0\n",
      "6\n",
      "[[3 0 4 0 2 2]\n",
      " [2 0 1 0 2 1]\n",
      " [3 4 3 1 0 0]]\n",
      "0\n",
      "7\n",
      "[[3 0 4 0 2 2 2]\n",
      " [2 0 1 0 2 1 2]\n",
      " [3 4 3 1 0 0 1]]\n",
      "1\n",
      "7\n",
      "[[0 4 0 2 2 2]\n",
      " [0 1 0 2 1 2]\n",
      " [4 3 1 0 0 1]]\n",
      "2\n",
      "7\n",
      "[[4 0 2 2 2]\n",
      " [1 0 2 1 2]\n",
      " [3 1 0 0 1]]\n",
      "3\n",
      "7\n",
      "[[0 2 2 2]\n",
      " [0 2 1 2]\n",
      " [1 0 0 1]]\n",
      "Original CQT array:\n",
      "[[3 0 4 0 2 2 2]\n",
      " [2 0 1 0 2 1 2]\n",
      " [3 4 3 1 0 0 1]]\n",
      "\n",
      "Grouped CQT array:\n",
      "[array([[3, 0, 4, 0],\n",
      "       [2, 0, 1, 0],\n",
      "       [3, 4, 3, 1]]), array([[3, 0, 4, 0, 2],\n",
      "       [2, 0, 1, 0, 2],\n",
      "       [3, 4, 3, 1, 0]]), array([[3, 0, 4, 0, 2, 2],\n",
      "       [2, 0, 1, 0, 2, 1],\n",
      "       [3, 4, 3, 1, 0, 0]]), array([[3, 0, 4, 0, 2, 2, 2],\n",
      "       [2, 0, 1, 0, 2, 1, 2],\n",
      "       [3, 4, 3, 1, 0, 0, 1]]), array([[0, 4, 0, 2, 2, 2],\n",
      "       [0, 1, 0, 2, 1, 2],\n",
      "       [4, 3, 1, 0, 0, 1]]), array([[4, 0, 2, 2, 2],\n",
      "       [1, 0, 2, 1, 2],\n",
      "       [3, 1, 0, 0, 1]]), array([[0, 2, 2, 2],\n",
      "       [0, 2, 1, 2],\n",
      "       [1, 0, 0, 1]])]\n"
     ]
    }
   ],
   "source": [
    "\n",
    "# Mock CQT array (whole, small numbers from 0-10)\n",
    "mock_cqt = np.random.randint(0, 5, size=(3, 7))  # 3 keys, 7 frames\n",
    "\n",
    "# Test the function with the mock CQT array\n",
    "grouped_cqt = group_cqt_frames(mock_cqt, num_frames_after=3, num_frames_before=3)\n",
    "\n",
    "# Print the original and grouped CQT arrays for verification\n",
    "print(\"Original CQT array:\")\n",
    "print(mock_cqt)\n",
    "\n",
    "print(\"\\nGrouped CQT array:\")\n",
    "print(grouped_cqt)"
   ]
  },
  {
   "cell_type": "code",
   "execution_count": null,
   "id": "939b3c06-ab89-43d8-ac1f-2350ef7bd265",
   "metadata": {},
   "outputs": [],
   "source": []
  }
 ],
 "metadata": {
  "kernelspec": {
   "display_name": "tensorflow_env_kernel",
   "language": "python",
   "name": "tensorflow_env"
  },
  "language_info": {
   "codemirror_mode": {
    "name": "ipython",
    "version": 3
   },
   "file_extension": ".py",
   "mimetype": "text/x-python",
   "name": "python",
   "nbconvert_exporter": "python",
   "pygments_lexer": "ipython3",
   "version": "3.11.8"
  }
 },
 "nbformat": 4,
 "nbformat_minor": 5
}
